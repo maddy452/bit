{
 "cells": [
  {
   "cell_type": "code",
   "execution_count": null,
   "id": "fda1ea23-70c6-49a7-92a7-930755123358",
   "metadata": {},
   "outputs": [],
   "source": [
    "import time\n",
    "import time\n",
    "import random\n",
    "import pyfiglet as pf\n",
    "from pyfiglet import Figlet\n",
    "from termcolor import colored\n",
    "\n",
    "# happy birthday chota don sadai khusi rahnu and auni barsha ma alik ris kam garnu\n",
    "\n",
    "Text = \"Happy Birthday\"\n",
    "# swastika\n",
    "Name = \"swastika\"\n",
    "\n",
    "# Reverse your given name\n",
    "reverseText = Name[::-1]\n",
    "\n",
    "colorList = ['red', 'green', 'yellow', 'blue']\n",
    "timeInterval = [0.2, 0.3, 0.2, 0.4]\n",
    "\n",
    "# Getting all the font types from 'font.txt'\n",
    "# and storing into a list\n",
    "#==================================\n",
    "dataList = list()\n",
    "with open('fonts.txt') as f:\n",
    "    for line in f:\n",
    "        dataList.append(line.strip())\n",
    "#==================================\n",
    "\n",
    "# This part of the code prints the message\n",
    "# with different font types(fixed and randomly)\n",
    "#==================================\n",
    "for i in range(1,1000):\n",
    "    if(i%10==0):\n",
    "        textArt = pf.figlet_format(Text)\n",
    "        print(\"n\", textArt)\n",
    "    elif(i%9 == 0):\n",
    "        textArt = pf.figlet_format(Text, font=\"xsbook\")\n",
    "        print(textArt)\n",
    "    elif(i%5==0):\n",
    "        F = Figlet(font=random.choice(dataList))\n",
    "        textArt = colored(F.renderText(Name), random.choice(colorList))\n",
    "        print(\"n\", textArt)\n",
    "    elif(i%8==0):\n",
    "        F = Figlet(font=random.choice(dataList))\n",
    "        textArt = colored(F.renderText(Text), random.choice(colorList))\n",
    "        print(\"n\", textArt)\n",
    "    elif(i%7==0):\n",
    "        textArt = pf.figlet_format(Text, font=random.choice(dataList))\n",
    "        print(\"n\", textArt)\n",
    "    elif(i%4==0):\n",
    "        textArt = pf.figlet_format(reverseText, direction = \"right-to-left\")\n",
    "        print(\"n\", textArt)\n",
    "    else:\n",
    "        print(\"\")\n",
    "\n",
    "    time.sleep(random.choice(timeInterval))\n"
   ]
  },
  {
   "cell_type": "code",
   "execution_count": null,
   "id": "022e9055-f579-442d-9341-fef07e8ecf19",
   "metadata": {},
   "outputs": [],
   "source": []
  }
 ],
 "metadata": {
  "kernelspec": {
   "display_name": "Python 3 (ipykernel)",
   "language": "python",
   "name": "python3"
  },
  "language_info": {
   "codemirror_mode": {
    "name": "ipython",
    "version": 3
   },
   "file_extension": ".py",
   "mimetype": "text/x-python",
   "name": "python",
   "nbconvert_exporter": "python",
   "pygments_lexer": "ipython3",
   "version": "3.12.6"
  }
 },
 "nbformat": 4,
 "nbformat_minor": 5
}
